{
  "nbformat": 4,
  "nbformat_minor": 0,
  "metadata": {
    "colab": {
      "provenance": [],
      "authorship_tag": "ABX9TyOmcRVI0ccnrQ0pL731FxGU",
      "include_colab_link": true
    },
    "kernelspec": {
      "name": "python3",
      "display_name": "Python 3"
    },
    "language_info": {
      "name": "python"
    }
  },
  "cells": [
    {
      "cell_type": "markdown",
      "metadata": {
        "id": "view-in-github",
        "colab_type": "text"
      },
      "source": [
        "<a href=\"https://colab.research.google.com/github/jeddyclass/202211.NCUT/blob/main/mainfold.ipynb\" target=\"_parent\"><img src=\"https://colab.research.google.com/assets/colab-badge.svg\" alt=\"Open In Colab\"/></a>"
      ]
    },
    {
      "cell_type": "code",
      "source": [
        "!pip install astroML"
      ],
      "metadata": {
        "colab": {
          "base_uri": "https://localhost:8080/"
        },
        "id": "l6RuKvZmI-4G",
        "outputId": "bc1600b5-f76e-4c26-e046-87330e9afb2c"
      },
      "execution_count": 2,
      "outputs": [
        {
          "output_type": "stream",
          "name": "stdout",
          "text": [
            "Looking in indexes: https://pypi.org/simple, https://us-python.pkg.dev/colab-wheels/public/simple/\n",
            "Collecting astroML\n",
            "  Downloading astroML-1.0.2.post1-py3-none-any.whl (134 kB)\n",
            "\u001b[K     |████████████████████████████████| 134 kB 5.0 MB/s \n",
            "\u001b[?25hRequirement already satisfied: astropy>=3.0 in /usr/local/lib/python3.7/dist-packages (from astroML) (4.3.1)\n",
            "Requirement already satisfied: matplotlib>=3.0 in /usr/local/lib/python3.7/dist-packages (from astroML) (3.2.2)\n",
            "Requirement already satisfied: scikit-learn>=0.18 in /usr/local/lib/python3.7/dist-packages (from astroML) (1.0.2)\n",
            "Requirement already satisfied: scipy>=0.18 in /usr/local/lib/python3.7/dist-packages (from astroML) (1.7.3)\n",
            "Requirement already satisfied: numpy>=1.13 in /usr/local/lib/python3.7/dist-packages (from astroML) (1.21.6)\n",
            "Requirement already satisfied: importlib-metadata in /usr/local/lib/python3.7/dist-packages (from astropy>=3.0->astroML) (4.13.0)\n",
            "Requirement already satisfied: pyerfa>=1.7.3 in /usr/local/lib/python3.7/dist-packages (from astropy>=3.0->astroML) (2.0.0.1)\n",
            "Requirement already satisfied: kiwisolver>=1.0.1 in /usr/local/lib/python3.7/dist-packages (from matplotlib>=3.0->astroML) (1.4.4)\n",
            "Requirement already satisfied: python-dateutil>=2.1 in /usr/local/lib/python3.7/dist-packages (from matplotlib>=3.0->astroML) (2.8.2)\n",
            "Requirement already satisfied: pyparsing!=2.0.4,!=2.1.2,!=2.1.6,>=2.0.1 in /usr/local/lib/python3.7/dist-packages (from matplotlib>=3.0->astroML) (3.0.9)\n",
            "Requirement already satisfied: cycler>=0.10 in /usr/local/lib/python3.7/dist-packages (from matplotlib>=3.0->astroML) (0.11.0)\n",
            "Requirement already satisfied: typing-extensions in /usr/local/lib/python3.7/dist-packages (from kiwisolver>=1.0.1->matplotlib>=3.0->astroML) (4.1.1)\n",
            "Requirement already satisfied: six>=1.5 in /usr/local/lib/python3.7/dist-packages (from python-dateutil>=2.1->matplotlib>=3.0->astroML) (1.15.0)\n",
            "Requirement already satisfied: threadpoolctl>=2.0.0 in /usr/local/lib/python3.7/dist-packages (from scikit-learn>=0.18->astroML) (3.1.0)\n",
            "Requirement already satisfied: joblib>=0.11 in /usr/local/lib/python3.7/dist-packages (from scikit-learn>=0.18->astroML) (1.2.0)\n",
            "Requirement already satisfied: zipp>=0.5 in /usr/local/lib/python3.7/dist-packages (from importlib-metadata->astropy>=3.0->astroML) (3.10.0)\n",
            "Installing collected packages: astroML\n",
            "Successfully installed astroML-1.0.2.post1\n"
          ]
        }
      ]
    },
    {
      "cell_type": "code",
      "execution_count": 5,
      "metadata": {
        "colab": {
          "base_uri": "https://localhost:8080/",
          "height": 237
        },
        "id": "g-Q6oYFBIyWG",
        "outputId": "1fc3257d-09be-4134-c74e-8b1323fd8f89"
      },
      "outputs": [
        {
          "output_type": "error",
          "ename": "TypeError",
          "evalue": "ignored",
          "traceback": [
            "\u001b[0;31m---------------------------------------------------------------------------\u001b[0m",
            "\u001b[0;31mTypeError\u001b[0m                                 Traceback (most recent call last)",
            "\u001b[0;32m<ipython-input-5-f21cb920b98b>\u001b[0m in \u001b[0;36m<module>\u001b[0;34m\u001b[0m\n\u001b[1;32m     42\u001b[0m \u001b[0mY_pca\u001b[0m \u001b[0;34m=\u001b[0m \u001b[0mpca\u001b[0m\u001b[0;34m.\u001b[0m\u001b[0mfit_transform\u001b[0m\u001b[0;34m(\u001b[0m\u001b[0mX\u001b[0m\u001b[0;34m)\u001b[0m\u001b[0;34m\u001b[0m\u001b[0;34m\u001b[0m\u001b[0m\n\u001b[1;32m     43\u001b[0m \u001b[0;34m\u001b[0m\u001b[0m\n\u001b[0;32m---> 44\u001b[0;31m \u001b[0mlle\u001b[0m \u001b[0;34m=\u001b[0m \u001b[0mmanifold\u001b[0m\u001b[0;34m.\u001b[0m\u001b[0mLocallyLinearEmbedding\u001b[0m\u001b[0;34m(\u001b[0m\u001b[0mn_neighbors\u001b[0m\u001b[0;34m,\u001b[0m \u001b[0mout_dim\u001b[0m\u001b[0;34m,\u001b[0m \u001b[0mmethod\u001b[0m\u001b[0;34m=\u001b[0m\u001b[0;34m'modified'\u001b[0m\u001b[0;34m,\u001b[0m \u001b[0mrandom_state\u001b[0m\u001b[0;34m=\u001b[0m\u001b[0;36m0\u001b[0m\u001b[0;34m,\u001b[0m \u001b[0meigen_solver\u001b[0m\u001b[0;34m=\u001b[0m\u001b[0;34m'dense'\u001b[0m\u001b[0;34m)\u001b[0m\u001b[0;34m\u001b[0m\u001b[0;34m\u001b[0m\u001b[0m\n\u001b[0m\u001b[1;32m     45\u001b[0m \u001b[0mY_lle\u001b[0m \u001b[0;34m=\u001b[0m \u001b[0mlle\u001b[0m\u001b[0;34m.\u001b[0m\u001b[0mfit_transform\u001b[0m\u001b[0;34m(\u001b[0m\u001b[0mX\u001b[0m\u001b[0;34m)\u001b[0m\u001b[0;34m\u001b[0m\u001b[0;34m\u001b[0m\u001b[0m\n\u001b[1;32m     46\u001b[0m \u001b[0;34m\u001b[0m\u001b[0m\n",
            "\u001b[0;31mTypeError\u001b[0m: __init__() takes 1 positional argument but 3 positional arguments (and 3 keyword-only arguments) were given"
          ]
        }
      ],
      "source": [
        "# Author: Jake VanderPlas\n",
        "# License: BSD\n",
        "#   The figure produced by this code is published in the textbook\n",
        "#   \"Statistics, Data Mining, and Machine Learning in Astronomy\" (2013)\n",
        "#   For more information, see http://astroML.github.com\n",
        "#   To report a bug or issue, use the following forum:\n",
        "#    https://groups.google.com/forum/#!forum/astroml-general\n",
        "import numpy as np\n",
        "from matplotlib import pyplot as plt\n",
        "from matplotlib import ticker\n",
        "\n",
        "from sklearn import manifold, datasets, decomposition\n",
        "\n",
        "#----------------------------------------------------------------------\n",
        "# This function adjusts matplotlib settings for a uniform feel in the textbook.\n",
        "# Note that with usetex=True, fonts are rendered with LaTeX.  This may\n",
        "# result in an error if LaTeX is not installed on your system.  In that case,\n",
        "# you can set usetex to False.\n",
        "if \"setup_text_plots\" not in globals():\n",
        "    from astroML.plotting import setup_text_plots\n",
        "setup_text_plots(fontsize=8, usetex=True)\n",
        "\n",
        "#------------------------------------------------------------\n",
        "# generate the S-curve dataset\n",
        "np.random.seed(0)\n",
        "\n",
        "n_points = 1100\n",
        "n_neighbors = 10\n",
        "out_dim = 2\n",
        "\n",
        "#X, color = datasets.samples_generator.make_s_curve(n_points)\n",
        "X, color = datasets.make_swiss_roll(n_points)\n",
        "\n",
        "# change the proportions to emphasize the weakness of PCA\n",
        "X[:, 1] -= 1\n",
        "X[:, 1] *= 1.5\n",
        "X[:, 2] *= 0.5\n",
        "\n",
        "#------------------------------------------------------------\n",
        "# Compute the projections\n",
        "pca = decomposition.PCA(out_dim)\n",
        "Y_pca = pca.fit_transform(X)\n",
        "\n",
        "lle = manifold.LocallyLinearEmbedding(n_neighbors, out_dim, method='modified', random_state=0, eigen_solver='dense')\n",
        "Y_lle = lle.fit_transform(X)\n",
        "\n",
        "iso = manifold.Isomap(n_neighbors, out_dim)\n",
        "Y_iso = iso.fit_transform(X)\n",
        "\n",
        "#------------------------------------------------------------\n",
        "# plot the 3D dataset\n",
        "fig = plt.figure(figsize=(5, 5))\n",
        "fig.subplots_adjust(left=0.05, right=0.95,\n",
        "                    bottom=0.05, top=0.9)\n",
        "try:\n",
        "    # matplotlib 1.0+ has a toolkit for generating 3D plots\n",
        "    from mpl_toolkits.mplot3d import Axes3D\n",
        "    ax1 = fig.add_subplot(221, projection='3d',\n",
        "                          xticks=[], yticks=[], zticks=[])\n",
        "    ax1.scatter(X[:, 0], X[:, 1], X[:, 2], c=color,\n",
        "                cmap=plt.cm.jet, s=9, lw=0)\n",
        "    ax1.view_init(11, -73)\n",
        "\n",
        "except:\n",
        "    # In older versions, we'll have to wing it with a 2D plot\n",
        "    ax1 = fig.add_subplot(221)\n",
        "\n",
        "    # Create a projection to mimic 3D scatter-plot\n",
        "    X_proj = X / (X.max(0) - X.min(0))\n",
        "    X_proj -= X_proj.mean(0)\n",
        "    R = np.array([[0.5, 0.0],\n",
        "                  [0.1, 0.1],\n",
        "                  [0.0, 0.5]])\n",
        "    R /= np.sqrt(np.sum(R ** 2, 0))\n",
        "    X_proj = np.dot(X_proj, R)\n",
        "\n",
        "    # change line width with depth\n",
        "    lw = X[:, 1].copy()\n",
        "    lw -= lw.min()\n",
        "    lw /= lw.max()\n",
        "    lw = 1 - lw\n",
        "\n",
        "    ax1.scatter(X_proj[:, 0], X_proj[:, 1], c=color,\n",
        "                cmap=plt.cm.jet, s=9, lw=lw, zorder=10)\n",
        "\n",
        "    # draw the shaded axes\n",
        "    ax1.fill([-0.7, -0.3, -0.3, -0.7, -0.7],\n",
        "             [-0.7, -0.3, 0.7, 0.3, -0.7], ec='k', fc='#DDDDDD', zorder=0)\n",
        "    ax1.fill([-0.3, 0.7, 0.7, -0.3, -0.3],\n",
        "             [-0.3, -0.3, 0.7, 0.7, -0.3], ec='k', fc='#DDDDDD', zorder=0)\n",
        "    ax1.fill([-0.7, 0.3, 0.7, -0.3, -0.7],\n",
        "             [-0.7, -0.7, -0.3, -0.3, -0.7], ec='k', fc='#DDDDDD', zorder=0)\n",
        "\n",
        "    ax1.xaxis.set_major_locator(ticker.NullLocator())\n",
        "    ax1.yaxis.set_major_locator(ticker.NullLocator())\n",
        "\n",
        "#------------------------------------------------------------\n",
        "# Plot the projections\n",
        "subplots = [222, 223, 224]\n",
        "titles = ['PCA projection', 'LLE projection', 'IsoMap projection']\n",
        "Yvals = [Y_pca, Y_lle, Y_iso]\n",
        "\n",
        "for (Y, title, subplot) in zip(Yvals, titles, subplots):\n",
        "    ax = fig.add_subplot(subplot)\n",
        "    ax.scatter(Y[:, 0], Y[:, 1], c=color, cmap=plt.cm.jet, s=9, lw=0)\n",
        "    ax.set_title(title)\n",
        "    ax.set_xticks([])\n",
        "    ax.set_yticks([])\n",
        "\n",
        "plt.show()"
      ]
    },
    {
      "cell_type": "code",
      "source": [],
      "metadata": {
        "id": "iFuJW3XuJF8P"
      },
      "execution_count": null,
      "outputs": []
    }
  ]
}